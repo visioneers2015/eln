{
 "cells": [
  {
   "cell_type": "code",
   "execution_count": 1,
   "metadata": {},
   "outputs": [
    {
     "name": "stdout",
     "output_type": "stream",
     "text": [
      "✅ ELN template saved as: My_ELN_Template.ipynb\n"
     ]
    }
   ],
   "source": [
    "import nbformat\n",
    "from nbformat.v4 import new_notebook, new_markdown_cell, new_code_cell\n",
    "from datetime import date\n",
    "\n",
    "def create_eln_template(notebook_name=\"ELN_Template.ipynb\"):\n",
    "    nb = new_notebook()\n",
    "\n",
    "    # Add markdown and code cells for ELN structure\n",
    "    nb.cells = [\n",
    "        new_markdown_cell(f\"# Experiment Title\\n\\n**Date:** {date.today()}\"),\n",
    "        new_markdown_cell(\"## Objective\\n\\nDescribe the goal of the experiment.\"),\n",
    "        new_markdown_cell(\"## Materials\\n\\n- List\\n- Of\\n- Materials\"),\n",
    "        new_markdown_cell(\"## Procedure\\n\\nStep-by-step process.\"),\n",
    "        new_code_cell(\"# Optional: Setup code or imports\"),\n",
    "        new_markdown_cell(\"## Results\\n\\nPaste tables, figures, or output.\"),\n",
    "        new_markdown_cell(\"## Analysis\\n\\nInterpret the results.\"),\n",
    "        new_markdown_cell(\"## Conclusion\\n\\nWhat did you learn?\"),\n",
    "        new_markdown_cell(\"## Notes\\n\\nAdditional observations or future directions.\"),\n",
    "    ]\n",
    "\n",
    "    # Save notebook\n",
    "    with open(notebook_name, \"w\", encoding=\"utf-8\") as f:\n",
    "        nbformat.write(nb, f)\n",
    "\n",
    "    print(f\"✅ ELN template saved as: {notebook_name}\")\n",
    "\n",
    "# Create the template\n",
    "create_eln_template(\"My_ELN_Template.ipynb\")\n"
   ]
  },
  {
   "cell_type": "code",
   "execution_count": 3,
   "metadata": {},
   "outputs": [
    {
     "name": "stdout",
     "output_type": "stream",
     "text": [
      "/Users/Daniella\n"
     ]
    }
   ],
   "source": [
    "import shutil\n",
    "import os\n",
    "print(os.getcwd())"
   ]
  },
  {
   "cell_type": "code",
   "execution_count": null,
   "metadata": {},
   "outputs": [],
   "source": []
  }
 ],
 "metadata": {
  "kernelspec": {
   "display_name": "Python 3 (ipykernel)",
   "language": "python",
   "name": "python3"
  },
  "language_info": {
   "codemirror_mode": {
    "name": "ipython",
    "version": 3
   },
   "file_extension": ".py",
   "mimetype": "text/x-python",
   "name": "python",
   "nbconvert_exporter": "python",
   "pygments_lexer": "ipython3",
   "version": "3.9.13"
  }
 },
 "nbformat": 4,
 "nbformat_minor": 5
}